{
 "cells": [
  {
   "cell_type": "code",
   "execution_count": 2,
   "metadata": {},
   "outputs": [
    {
     "name": "stdout",
     "output_type": "stream",
     "text": [
      "Hello John, Good Morning!!\n"
     ]
    }
   ],
   "source": [
    "print('Hello {name}, {greeting}'.format(greeting = 'Good Morning!!',\\\n",
    "                                        name = 'John'))"
   ]
  },
  {
   "cell_type": "code",
   "execution_count": 3,
   "metadata": {},
   "outputs": [
    {
     "name": "stdout",
     "output_type": "stream",
     "text": [
      "\n",
      " Enter the principal Amount:2000\n",
      "\n",
      " Enter the time period:3\n",
      "\n",
      " Enter the rate of interest:10\n",
      "\n",
      " Simple Interest: 600.0\n"
     ]
    }
   ],
   "source": [
    "p = int(input(\"\\n Enter the principal Amount:\"))\n",
    "t = int(input(\"\\n Enter the time period:\"))\n",
    "r = float(input(\"\\n Enter the rate of interest:\"))\n",
    "si = p*t*r/100\n",
    "print(\"\\n Simple Interest:\",si)"
   ]
  },
  {
   "cell_type": "code",
   "execution_count": 4,
   "metadata": {},
   "outputs": [
    {
     "name": "stdout",
     "output_type": "stream",
     "text": [
      "This sentence is output to the screen\n",
      "The value of a is: 5\n",
      "x: 1 2 3 4\n",
      "The value of x is 5 and y is 10\n",
      "I love bread and butter\n",
      "I love butter and bread\n"
     ]
    }
   ],
   "source": [
    "print('''This sentence is output to the screen''')\n",
    "a=5\n",
    "print(\"The value of a is:\",a)\n",
    "print('x:',1,2,3,4)\n",
    "x = 5 ; y = 10\n",
    "print('The value of x is {} and y is {}'.format(x,y))\n",
    "print('I love {0} and {1}'.format('bread','butter'))\n",
    "print('I love {1} and {0}'.format('bread','butter'))"
   ]
  },
  {
   "cell_type": "code",
   "execution_count": 5,
   "metadata": {},
   "outputs": [
    {
     "name": "stdout",
     "output_type": "stream",
     "text": [
      "The value of x is 12.35\n",
      "The value of x is 12.3457\n"
     ]
    }
   ],
   "source": [
    "x = 12.3456789\n",
    "print('The value of x is %3.2f' %x)\n",
    "print('The value of x is %3.4f' %x)"
   ]
  },
  {
   "cell_type": "code",
   "execution_count": 6,
   "metadata": {},
   "outputs": [
    {
     "name": "stdout",
     "output_type": "stream",
     "text": [
      " 1   1    1\n",
      " 2   4    8\n",
      " 3   9   27\n",
      " 4  16   64\n",
      " 5  25  125\n",
      " 6  36  216\n",
      " 7  49  343\n",
      " 8  64  512\n",
      " 9  81  729\n",
      "10 100 1000\n"
     ]
    }
   ],
   "source": [
    "for x in range(1, 11):\n",
    "     print('{0:2d} {1:3d} {2:4d}'.format(x, x*x, x*x*x))"
   ]
  },
  {
   "cell_type": "code",
   "execution_count": 7,
   "metadata": {},
   "outputs": [
    {
     "name": "stdout",
     "output_type": "stream",
     "text": [
      "Raju       ==> 9480123526\n",
      "Ravi       ==> 9480123527\n",
      "Rahul      ==> 9480123528\n"
     ]
    }
   ],
   "source": [
    "table = {'Raju': 9480123526, 'Ravi': 9480123527, 'Rahul': 9480123528}\n",
    "for name, phone in table.items():\n",
    "     print('{0:10} ==> {1:10d}'.format(name, phone))"
   ]
  },
  {
   "cell_type": "code",
   "execution_count": 8,
   "metadata": {},
   "outputs": [
    {
     "name": "stdout",
     "output_type": "stream",
     "text": [
      "The value of PI is approximately 3.142.\n"
     ]
    }
   ],
   "source": [
    "import math\n",
    "print('The value of PI is approximately %5.3f.' % math.pi)"
   ]
  },
  {
   "cell_type": "code",
   "execution_count": 10,
   "metadata": {},
   "outputs": [
    {
     "name": "stdout",
     "output_type": "stream",
     "text": [
      "Enter a string: nab\n",
      "The entered string is :nab\n",
      "Enter a integer: 5\n",
      "The entered integer is : 5\n",
      "Enter a floating point number:0.2\n",
      "The entered real number  is : 0.2\n"
     ]
    }
   ],
   "source": [
    "x = input('Enter a string: ')\n",
    "print(\"The entered string is :{0}\".format(x))\n",
    "y = int(input('Enter a integer: '))\n",
    "print(\"The entered integer is :\",y)\n",
    "z = float(input('Enter a floating point number:'))\n",
    "print(\"The entered real number  is :\",z)"
   ]
  },
  {
   "cell_type": "code",
   "execution_count": 11,
   "metadata": {},
   "outputs": [
    {
     "name": "stdout",
     "output_type": "stream",
     "text": [
      "x has a value of 1234\n",
      "y has a value of 121112\n",
      "['Monday', 'Tuesday', 'Wednesday', 'Thursday', 'Friday']\n",
      "{'one': 'Monday'}\n"
     ]
    }
   ],
   "source": [
    "x = ('1' + '2' +\n",
    "     '3' + '4')\n",
    "y = '1' + '2' + \\\n",
    "'11' + '12'\n",
    "weekdays = ['Monday', 'Tuesday', 'Wednesday',\n",
    "'Thursday', 'Friday']\n",
    "weekday = {'one':\n",
    "           'Monday'}\n",
    "print ('x has a value of', x)\n",
    "print ('y has a value of', y)\n",
    "print(weekdays)\n",
    "print(weekday)"
   ]
  },
  {
   "cell_type": "code",
   "execution_count": 12,
   "metadata": {},
   "outputs": [
    {
     "name": "stdout",
     "output_type": "stream",
     "text": [
      "Hello\n"
     ]
    }
   ],
   "source": [
    "import os;\n",
    "x = 'Hello'; \n",
    "print(x)"
   ]
  },
  {
   "cell_type": "code",
   "execution_count": 13,
   "metadata": {},
   "outputs": [
    {
     "name": "stdout",
     "output_type": "stream",
     "text": [
      "-1\n",
      "the value of var is negative\n",
      "the value of var is negative\n"
     ]
    }
   ],
   "source": [
    "var = -1\n",
    "if var < 0:\n",
    "    print(var)\n",
    "    print(\"the value of var is negative\")\n",
    "if ( var == -1 ) : \n",
    "    print(\"the value of var is negative\")"
   ]
  },
  {
   "cell_type": "code",
   "execution_count": 14,
   "metadata": {},
   "outputs": [
    {
     "name": "stdout",
     "output_type": "stream",
     "text": [
      "the value of var is positive\n",
      "1\n"
     ]
    }
   ],
   "source": [
    "var = 1\n",
    "if var < 0:\n",
    "    print(\"the value of var is negative\")\n",
    "    print(var)\n",
    "else:\n",
    "    print(\"the value of var is positive\")\n",
    "    print(var)"
   ]
  },
  {
   "cell_type": "code",
   "execution_count": 15,
   "metadata": {},
   "outputs": [
    {
     "name": "stdout",
     "output_type": "stream",
     "text": [
      "B\n"
     ]
    },
    {
     "data": {
      "text/plain": [
       "3.0"
      ]
     },
     "execution_count": 15,
     "metadata": {},
     "output_type": "execute_result"
    }
   ],
   "source": [
    "score = 95\n",
    "if score >= 99:\n",
    "    print('A')\n",
    "elif score >=75:\n",
    "    print('B')\n",
    "elif score >= 60:\n",
    "    print('C')\n",
    "elif score >= 35:\n",
    "    print('D')\n",
    "else:\n",
    "    print('F')\n",
    "3.0"
   ]
  },
  {
   "cell_type": "code",
   "execution_count": 16,
   "metadata": {},
   "outputs": [
    {
     "name": "stdout",
     "output_type": "stream",
     "text": [
      "First Example\n",
      "item : 1\n",
      "item : 2\n",
      "item : 3\n",
      "item : 4\n",
      "item : 5\n",
      "Second Example\n",
      "First loop letter : A\n",
      "First loop letter : B\n",
      "First loop letter : C\n"
     ]
    }
   ],
   "source": [
    "print(\"First Example\")\n",
    "for item in [1,2,3,4,5]:\n",
    "    print('item :', item)\n",
    "\n",
    "print(\"Second Example\")\n",
    "letters = ['A', 'B', 'C']\n",
    "for index in range(len(letters)):\n",
    "    print('First loop letter :', letters[index])"
   ]
  },
  {
   "cell_type": "code",
   "execution_count": 17,
   "metadata": {},
   "outputs": [
    {
     "name": "stdout",
     "output_type": "stream",
     "text": [
      "The count is: 0\n",
      "The count is: 1\n",
      "The count is: 2\n"
     ]
    }
   ],
   "source": [
    "count = 0\n",
    "while (count <3):\n",
    "    print('The count is:', count)\n",
    "    count = count + 1"
   ]
  },
  {
   "cell_type": "code",
   "execution_count": 18,
   "metadata": {},
   "outputs": [
    {
     "name": "stdout",
     "output_type": "stream",
     "text": [
      "list_1[0]:  Statistics\n",
      "list2_[1:5]:  ['b', 1, 2, 3]\n"
     ]
    }
   ],
   "source": [
    "list_1 = ['Statistics', 'Programming', 2016, 2017, 2018]\n",
    "list_2 = ['a', 'b', 1, 2, 3, 4, 5, 6, 7 ]\n",
    "print(\"list_1[0]: \", list_1[0])\n",
    "print(\"list2_[1:5]: \", list_2[1:5])"
   ]
  },
  {
   "cell_type": "code",
   "execution_count": 19,
   "metadata": {},
   "outputs": [
    {
     "name": "stdout",
     "output_type": "stream",
     "text": [
      "list_1 values:  ['Statistics', 'Programming', 2016, 2017, 2018]\n",
      "list_1 values post append:  ['Statistics', 'Programming', 2016, 2017, 2018, 2019]\n"
     ]
    }
   ],
   "source": [
    "print(\"list_1 values: \", list_1)\n",
    "list_1.append(2019)\n",
    "print(\"list_1 values post append: \", list_1)"
   ]
  },
  {
   "cell_type": "code",
   "execution_count": 20,
   "metadata": {},
   "outputs": [
    {
     "name": "stdout",
     "output_type": "stream",
     "text": [
      "Values of list_1:  ['Statistics', 'Programming', 2016, 2017, 2018, 2019]\n",
      "Index 2 value :  2016\n",
      "Index 2's new value :  2015\n"
     ]
    }
   ],
   "source": [
    "print(\"Values of list_1: \", list_1)\n",
    "print(\"Index 2 value : \", list_1[2])\n",
    "list_1[2] = 2015;\n",
    "print(\"Index 2's new value : \", list_1[2])"
   ]
  },
  {
   "cell_type": "code",
   "execution_count": 22,
   "metadata": {},
   "outputs": [
    {
     "name": "stdout",
     "output_type": "stream",
     "text": [
      "Length:  6\n",
      "Concatenation:  [1, 2, 3, 4, 5, 6]\n",
      "Repetition : ['Hello', 'Hello', 'Hello', 'Hello']\n",
      "Membership : True\n",
      "Iteration :\n",
      "1\n",
      "2\n",
      "3\n",
      "slicing : 2018\n",
      "slicing range:  ['Programming', 2015, 2017, 2018, 2019]\n",
      "Max of list:  5\n",
      "Min of list:  1\n",
      "Count number of 1 in list:  2\n",
      "Extended : ['Statistics', 'Programming', 2015, 2017, 2018, 2019, 'a', 'b', 1, 2, 3, 4, 5, 6, 7]\n",
      "Index for Programming: 1\n",
      "['Statistics', 'Programming', 2015, 2017, 2018, 2019, 'a', 'b', 1, 2, 3, 4, 5, 6, 7]\n",
      "pop last item in list:  7\n",
      "pop the item with index 2:  2015\n",
      "removed b from list:  ['Statistics', 'Programming', 2017, 2018, 2019, 'a', 1, 2, 3, 4, 5, 6]\n",
      "Reverse:  [6, 5, 4, 3, 2, 1, 'a', 2019, 2018, 2017, 'Programming', 'Statistics']\n",
      "Sort ascending:  ['a', 'b', 'c']\n",
      "Sort descending:  ['c', 'b', 'a']\n"
     ]
    }
   ],
   "source": [
    "import string\n",
    "import operator\n",
    "\n",
    "print(\"Length: \", len(list_1))\n",
    "\n",
    "print(\"Concatenation: \", [1,2,3] + [4, 5, 6])\n",
    "\n",
    "print(\"Repetition :\", ['Hello'] * 4)\n",
    "\n",
    "print(\"Membership :\", 3 in [1,2,3])\n",
    "\n",
    "print(\"Iteration :\")\n",
    "for x in [1,2,3]: print(x)\n",
    "\n",
    "print(\"slicing :\", list_1[-2])\n",
    "\n",
    "print(\"slicing range: \", list_1[1:])\n",
    "\n",
    "print(\"Max of list: \", max([1,2,3,4,5]))\n",
    "\n",
    "print(\"Min of list: \", min([1,2,3,4,5]))\n",
    "\n",
    "print(\"Count number of 1 in list: \", [1,1,2,3,4,5,].count(1))\n",
    "\n",
    "list_1.extend(list_2)\n",
    "\n",
    "print(\"Extended :\", list_1)\n",
    "\n",
    "print(\"Index for Programming:\",list_1.index('Programming'))\n",
    "print (list_1)\n",
    "print(\"pop last item in list: \", list_1.pop())\n",
    "print(\"pop the item with index 2: \", list_1.pop(2))\n",
    "list_1.remove('b')\n",
    "print(\"removed b from list: \", list_1)\n",
    "list_1.reverse()\n",
    "print(\"Reverse: \", list_1)\n",
    "list_1 = ['a','c','b']\n",
    "list_1.sort()\n",
    "print(\"Sort ascending: \", list_1)\n",
    "list_1.sort(reverse = True)\n",
    "print(\"Sort descending: \", list_1)"
   ]
  },
  {
   "cell_type": "code",
   "execution_count": 23,
   "metadata": {},
   "outputs": [
    {
     "name": "stdout",
     "output_type": "stream",
     "text": [
      "Empty Tuple:  ()\n",
      "Tuple with single item:  (1,)\n",
      "Sample Tuple : ('a', 'b', 'c', 'd', 1, 2, 3)\n"
     ]
    }
   ],
   "source": [
    "Tuple = ()\n",
    "print(\"Empty Tuple: \", Tuple)\n",
    "Tuple = (1,)\n",
    "print(\"Tuple with single item: \", Tuple)\n",
    "Tuple = ('a','b','c','d',1,2,3)\n",
    "print(\"Sample Tuple :\", Tuple)"
   ]
  },
  {
   "cell_type": "code",
   "execution_count": 24,
   "metadata": {},
   "outputs": [
    {
     "name": "stdout",
     "output_type": "stream",
     "text": [
      "Empty Tuple:  ()\n",
      "Tuple with single item:  (1,)\n",
      "Sample Tuple : ('a', 'b', 'c', 'd', 1, 2, 3)\n"
     ]
    }
   ],
   "source": [
    "Tuple = ()\n",
    "print(\"Empty Tuple: \", Tuple)\n",
    "Tuple = (1,)\n",
    "print(\"Tuple with single item: \", Tuple)\n",
    "Tuple = ('a','b','c','d',1,2,3)\n",
    "print(\"Sample Tuple :\", Tuple)"
   ]
  },
  {
   "cell_type": "code",
   "execution_count": 25,
   "metadata": {},
   "outputs": [
    {
     "name": "stdout",
     "output_type": "stream",
     "text": [
      "Sample Tuple:  ('a', 'b', 'c', 'd', 1, 2, 3)\n"
     ]
    },
    {
     "ename": "NameError",
     "evalue": "name 'Tuple' is not defined",
     "output_type": "error",
     "traceback": [
      "\u001b[1;31m---------------------------------------------------------------------------\u001b[0m",
      "\u001b[1;31mNameError\u001b[0m                                 Traceback (most recent call last)",
      "\u001b[1;32m<ipython-input-25-6805c9d6c589>\u001b[0m in \u001b[0;36m<module>\u001b[1;34m\u001b[0m\n\u001b[0;32m      1\u001b[0m \u001b[0mprint\u001b[0m\u001b[1;33m(\u001b[0m\u001b[1;34m\"Sample Tuple: \"\u001b[0m\u001b[1;33m,\u001b[0m \u001b[0mTuple\u001b[0m\u001b[1;33m)\u001b[0m\u001b[1;33m\u001b[0m\u001b[1;33m\u001b[0m\u001b[0m\n\u001b[0;32m      2\u001b[0m \u001b[1;32mdel\u001b[0m \u001b[0mTuple\u001b[0m\u001b[1;33m\u001b[0m\u001b[1;33m\u001b[0m\u001b[0m\n\u001b[1;32m----> 3\u001b[1;33m \u001b[0mprint\u001b[0m\u001b[1;33m(\u001b[0m\u001b[0mTuple\u001b[0m\u001b[1;33m)\u001b[0m \u001b[1;31m# Will throw an error message as the tuple does not exist\u001b[0m\u001b[1;33m\u001b[0m\u001b[1;33m\u001b[0m\u001b[0m\n\u001b[0m",
      "\u001b[1;31mNameError\u001b[0m: name 'Tuple' is not defined"
     ]
    }
   ],
   "source": [
    "print(\"Sample Tuple: \", Tuple)\n",
    "del Tuple\n",
    "print(Tuple) # Will throw an error message as the tuple does not exist"
   ]
  },
  {
   "cell_type": "code",
   "execution_count": 26,
   "metadata": {},
   "outputs": [
    {
     "name": "stdout",
     "output_type": "stream",
     "text": [
      "Length of Tuple:  7\n",
      "Concatinated Tuple:  ('a', 'b', 'c', 'd', 1, 2, 3, 7, 8, 9)\n",
      "Repetition:  (1, 'a', 2, 'b', 1, 'a', 2, 'b', 1, 'a', 2, 'b')\n",
      "Membership check:  True\n",
      "1\n",
      "2\n",
      "3\n",
      "Negative sign will retrieve item from right:  8\n",
      "Sliced Tuple [2:]  ('c', 'd', 1, 2, 3, 7, 8, 9)\n",
      "Max of the Tuple (1,2,3,4,5,6,7,8,9,10):  10\n",
      "Min of the Tuple (1,2,3,4,5,6,7,8,9,10):  1\n",
      "List [1,2,3,4] converted to tuple:  <class 'tuple'>\n"
     ]
    }
   ],
   "source": [
    "Tuple = ('a','b','c','d',1,2,3)\n",
    "print(\"Length of Tuple: \", len(Tuple))\n",
    "Tuple_Concat = Tuple + (7,8,9)\n",
    "print(\"Concatinated Tuple: \", Tuple_Concat)\n",
    "\n",
    "print(\"Repetition: \", (1,'a',2, 'b') * 3)\n",
    "print(\"Membership check: \", 3 in (1,2,3))\n",
    "\n",
    "for x in (1, 2, 3): print(x)\n",
    "print(\"Negative sign will retrieve item from right: \", Tuple_Concat[-2])\n",
    "print(\"Sliced Tuple [2:] \", Tuple_Concat[2:])\n",
    "\n",
    "print(\"Max of the Tuple (1,2,3,4,5,6,7,8,9,10): \",\n",
    "max((1,2,3,4,5,6,7,8,9,10)))\n",
    "print(\"Min of the Tuple (1,2,3,4,5,6,7,8,9,10): \",\n",
    "min((1,2,3,4,5,6,7,8,9,10)))\n",
    "print(\"List [1,2,3,4] converted to tuple: \", type(tuple([1,2,3,4])))"
   ]
  },
  {
   "cell_type": "code",
   "execution_count": 27,
   "metadata": {},
   "outputs": [
    {
     "name": "stdout",
     "output_type": "stream",
     "text": [
      "Sample dictionary:  {'Name': 'Jivin', 'Age': 6, 'Class': 'First'}\n"
     ]
    }
   ],
   "source": [
    "dict = {'Name': 'Jivin', 'Age': 6, 'Class': 'First'}\n",
    "print(\"Sample dictionary: \", dict)"
   ]
  },
  {
   "cell_type": "code",
   "execution_count": 28,
   "metadata": {},
   "outputs": [
    {
     "name": "stdout",
     "output_type": "stream",
     "text": [
      "Value of key Name, from sample dictionary: Jivin\n"
     ]
    }
   ],
   "source": [
    "print(\"Value of key Name, from sample dictionary:\", dict['Name'])"
   ]
  },
  {
   "cell_type": "code",
   "execution_count": 29,
   "metadata": {},
   "outputs": [
    {
     "name": "stdout",
     "output_type": "stream",
     "text": [
      "Sample dictionary:  {'Name': 'Jivin', 'Age': 6, 'Class': 'First'}\n",
      "1 Name Jivin\n",
      "2 Age 6\n",
      "3 Class First\n",
      "Sample dictionary post deletion of item Name: {'Age': 6, 'Class': 'First'}\n",
      "dict post dict.clear(): {}\n"
     ]
    }
   ],
   "source": [
    "dict0 = {'Name': 'Jivin', 'Age': 6, 'Class': 'First'}\n",
    "print(\"Sample dictionary: \", dict0)\n",
    "k=1\n",
    "for i in dict0:\n",
    "    print(k,i,dict0[i])\n",
    "    k=k+1\n",
    "del (dict0['Name']) \n",
    "\n",
    "print(\"Sample dictionary post deletion of item Name:\", dict0)\n",
    "\n",
    "dict0 = {'Name': 'Jivin', 'Age': 6, 'Class': 'First'}\n",
    "dict0.clear()\n",
    "print(\"dict post dict.clear():\", dict0)\n",
    "\n",
    "dict = {'Name': 'Jivin', 'Age': 6, 'Class': 'First'}\n",
    "del (dict0) \n",
    "#print(dict0)"
   ]
  },
  {
   "cell_type": "code",
   "execution_count": null,
   "metadata": {},
   "outputs": [],
   "source": []
  }
 ],
 "metadata": {
  "kernelspec": {
   "display_name": "Python 3",
   "language": "python",
   "name": "python3"
  },
  "language_info": {
   "codemirror_mode": {
    "name": "ipython",
    "version": 3
   },
   "file_extension": ".py",
   "mimetype": "text/x-python",
   "name": "python",
   "nbconvert_exporter": "python",
   "pygments_lexer": "ipython3",
   "version": "3.7.1"
  }
 },
 "nbformat": 4,
 "nbformat_minor": 2
}
